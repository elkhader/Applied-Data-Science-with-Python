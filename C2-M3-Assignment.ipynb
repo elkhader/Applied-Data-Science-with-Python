{
 "cells": [
  {
   "cell_type": "markdown",
   "metadata": {},
   "source": [
    "$\\hat p$ : Sample population proportion.<br>\n",
    "$\\bar{x}$: Sample mean.<br>\n",
    "$ p $ : Population proportion. <br>\n",
    "$ u $ : Population Mean.\n",
    "\n",
    "\n",
    "**Sample means** are used to estimate the **Population Mean**.<br> _Example_ : $\\bar{x}$ is the average weight of a **sample of 100** middle-aged females. It can be used to estimate the average weight $ u $ of **all** middle-aged females.\n",
    "\n",
    "**Sample proportion** is to be used to estimate the **Population Proportion**.  Proportion are values between 0 and 1:  $ 0 < p < 1 $. <br>\n",
    "$\\hat{p}$ the proportion, in a **sample of 1000 citizens**, to approve the gov's policy. $\\hat{p}$ can be used to estimate $p$ the proportion of **all** likely citizens to approve the gov's policy. "
   ]
  },
  {
   "cell_type": "markdown",
   "metadata": {},
   "source": [
    "**Standard Deviation** = $\\sigma= \\sqrt(\\frac{\\sum(x_i-\\bar x)²}{N})$<br>\n",
    "$x_i$ : Each value from the population. <br>\n",
    "$\\bar x$ : The population mean. <br>\n",
    "$ N$ : The size of the population. <br>"
   ]
  },
  {
   "cell_type": "markdown",
   "metadata": {},
   "source": [
    "**Standard Error for the mean** = $\\frac{\\sigma}{\\sqrt n}$ <br>\n",
    "$n$: Number of samples. \n",
    "\n",
    "**Standard Error for Proportion** = $\\sqrt \\frac {p (1 - p)} {n}  $\n",
    "\n",
    "**Confidence Intervals** = $ \\bar x \\pm z \\frac{\\sigma}{\\sqrt n}$"
   ]
  },
  {
   "cell_type": "code",
   "execution_count": null,
   "metadata": {},
   "outputs": [],
   "source": []
  }
 ],
 "metadata": {
  "kernelspec": {
   "display_name": "Python 3",
   "language": "python",
   "name": "python3"
  },
  "language_info": {
   "codemirror_mode": {
    "name": "ipython",
    "version": 3
   },
   "file_extension": ".py",
   "mimetype": "text/x-python",
   "name": "python",
   "nbconvert_exporter": "python",
   "pygments_lexer": "ipython3",
   "version": "3.7.6"
  }
 },
 "nbformat": 4,
 "nbformat_minor": 4
}
